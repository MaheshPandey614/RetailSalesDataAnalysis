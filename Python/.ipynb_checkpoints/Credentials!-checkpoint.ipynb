{
 "cells": [
  {
   "cell_type": "code",
   "execution_count": 1,
   "id": "3e980b4e-32ea-44be-a91c-5be30408f2b7",
   "metadata": {},
   "outputs": [],
   "source": [
    "import os\n",
    "import mysql.connector\n",
    "from dotenv import load_dotenv\n",
    "\n",
    "# Load environment variables\n",
    "load_dotenv(\"C:/GitHub/Bootcamp-2025-DA/Python/.env\")\n",
    "\n",
    "# Connect to MySQL using environment variables\n",
    "conn = mysql.connector.connect(\n",
    "    host=os.getenv(\"MYSQL_HOST\"),\n",
    "    user=os.getenv(\"MYSQL_USER\"),\n",
    "    password=os.getenv(\"MYSQL_PASSWORD\"),\n",
    "    database=os.getenv(\"MYSQL_DATABASE\")\n",
    ")\n",
    "\n",
    "cursor = conn.cursor()"
   ]
  },
  {
   "cell_type": "code",
   "execution_count": null,
   "id": "b7168548-f35f-448b-acb9-21fb1a526faf",
   "metadata": {},
   "outputs": [],
   "source": []
  },
  {
   "cell_type": "code",
   "execution_count": null,
   "id": "ebb6a30f-e2eb-45e2-bb4b-4715e2de6d5c",
   "metadata": {},
   "outputs": [],
   "source": []
  }
 ],
 "metadata": {
  "kernelspec": {
   "display_name": "Python 3 (ipykernel)",
   "language": "python",
   "name": "python3"
  },
  "language_info": {
   "codemirror_mode": {
    "name": "ipython",
    "version": 3
   },
   "file_extension": ".py",
   "mimetype": "text/x-python",
   "name": "python",
   "nbconvert_exporter": "python",
   "pygments_lexer": "ipython3",
   "version": "3.13.0"
  }
 },
 "nbformat": 4,
 "nbformat_minor": 5
}
