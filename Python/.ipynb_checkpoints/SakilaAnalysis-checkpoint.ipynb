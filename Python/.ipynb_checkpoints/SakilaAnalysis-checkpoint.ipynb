{
 "cells": [
  {
   "cell_type": "markdown",
   "id": "3fb765dd-e31e-43e7-8f7e-8fafa5a2be9f",
   "metadata": {},
   "source": [
    "## Libraries required for the analysis"
   ]
  },
  {
   "cell_type": "code",
   "execution_count": 4,
   "id": "2ded0767-d866-4d61-bd5b-d8f1f63c82e5",
   "metadata": {},
   "outputs": [],
   "source": [
    "import pandas as pd\n",
    "import numpy as np\n",
    "import matplotlib.pyplot as plt\n",
    "from plotnine import *\n",
    "from dotenv import load_dotenv\n",
    "import os\n",
    "import mysql.connector"
   ]
  },
  {
   "cell_type": "code",
   "execution_count": 11,
   "id": "ac6ad54f-bd3e-4264-9a5d-9c4a02f2ec0f",
   "metadata": {},
   "outputs": [
    {
     "name": "stderr",
     "output_type": "stream",
     "text": [
      "C:\\Users\\Mahes\\AppData\\Local\\Temp\\ipykernel_26968\\1993872255.py:19: UserWarning: pandas only supports SQLAlchemy connectable (engine/connection) or database string URI or sqlite3 DBAPI2 connection. Other DBAPI2 objects are not tested. Please consider using SQLAlchemy.\n"
     ]
    },
    {
     "data": {
      "text/html": [
       "<div>\n",
       "<style scoped>\n",
       "    .dataframe tbody tr th:only-of-type {\n",
       "        vertical-align: middle;\n",
       "    }\n",
       "\n",
       "    .dataframe tbody tr th {\n",
       "        vertical-align: top;\n",
       "    }\n",
       "\n",
       "    .dataframe thead th {\n",
       "        text-align: right;\n",
       "    }\n",
       "</style>\n",
       "<table border=\"1\" class=\"dataframe\">\n",
       "  <thead>\n",
       "    <tr style=\"text-align: right;\">\n",
       "      <th></th>\n",
       "      <th>title</th>\n",
       "      <th>rental_count</th>\n",
       "    </tr>\n",
       "  </thead>\n",
       "  <tbody>\n",
       "    <tr>\n",
       "      <th>0</th>\n",
       "      <td>BUCKET BROTHERHOOD</td>\n",
       "      <td>34</td>\n",
       "    </tr>\n",
       "    <tr>\n",
       "      <th>1</th>\n",
       "      <td>ROCKETEER MOTHER</td>\n",
       "      <td>33</td>\n",
       "    </tr>\n",
       "    <tr>\n",
       "      <th>2</th>\n",
       "      <td>RIDGEMONT SUBMARINE</td>\n",
       "      <td>32</td>\n",
       "    </tr>\n",
       "    <tr>\n",
       "      <th>3</th>\n",
       "      <td>GRIT CLOCKWORK</td>\n",
       "      <td>32</td>\n",
       "    </tr>\n",
       "    <tr>\n",
       "      <th>4</th>\n",
       "      <td>SCALAWAG DUCK</td>\n",
       "      <td>32</td>\n",
       "    </tr>\n",
       "  </tbody>\n",
       "</table>\n",
       "</div>"
      ],
      "text/plain": [
       "                 title  rental_count\n",
       "0   BUCKET BROTHERHOOD            34\n",
       "1     ROCKETEER MOTHER            33\n",
       "2  RIDGEMONT SUBMARINE            32\n",
       "3       GRIT CLOCKWORK            32\n",
       "4        SCALAWAG DUCK            32"
      ]
     },
     "execution_count": 11,
     "metadata": {},
     "output_type": "execute_result"
    }
   ],
   "source": [
    "load_dotenv(\"C:/GitHub/Bootcamp-2025-DA/Python/sakila.env\")\n",
    "\n",
    "MYSQL_HOST = os.getenv(\"MYSQL_HOST\")\n",
    "MYSQL_USER = os.getenv(\"MYSQL_USER\")\n",
    "MYSQL_PASSWORD = os.getenv(\"MYSQL_PASSWORD\")\n",
    "MYSQL_DATABASE = os.getenv(\"MYSQL_DATABASE\")\n",
    "\n",
    "db_config = {\n",
    "    \"host\": MYSQL_HOST,\n",
    "    \"user\": MYSQL_USER,\n",
    "    \"password\": MYSQL_PASSWORD,\n",
    "    \"database\": MYSQL_DATABASE\n",
    "}\n",
    "\n",
    "conn = mysql.connector.connect(**db_config)\n",
    "cursor = conn.cursor()\n",
    "\n",
    "query = \"SELECT f.title, COUNT(r.rental_id) AS rental_count FROM rental r JOIN inventory i ON r.inventory_id = i.inventory_id JOIN film f ON i.film_id = f.film_id GROUP BY f.title ORDER BY rental_count DESC LIMIT 10;\"\n",
    "df = pd.read_sql(query, conn)\n",
    "\n",
    "\n",
    "cursor.close()\n",
    "conn.close()\n",
    "\n",
    "\n",
    "df.head()\n"
   ]
  },
  {
   "cell_type": "code",
   "execution_count": null,
   "id": "9f4a09fa-45e7-4e2a-bac4-dccdafdb9757",
   "metadata": {},
   "outputs": [],
   "source": []
  }
 ],
 "metadata": {
  "kernelspec": {
   "display_name": "Python 3 (ipykernel)",
   "language": "python",
   "name": "python3"
  },
  "language_info": {
   "codemirror_mode": {
    "name": "ipython",
    "version": 3
   },
   "file_extension": ".py",
   "mimetype": "text/x-python",
   "name": "python",
   "nbconvert_exporter": "python",
   "pygments_lexer": "ipython3",
   "version": "3.13.0"
  }
 },
 "nbformat": 4,
 "nbformat_minor": 5
}
